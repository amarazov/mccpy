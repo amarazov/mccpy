{
 "cells": [
  {
   "cell_type": "markdown",
   "metadata": {},
   "source": [
    "# The Twin Problem\n",
    "\n",
    "Suppose a mathematician is said that she expects twins. More over she is told that the twins seem to be two boys. She asks herself: *What is the probability of them being identical?*\n",
    "\n",
    "First she checks what are the distribution of fraternal and identical twins:"
   ]
  },
  {
   "cell_type": "code",
   "execution_count": 1,
   "metadata": {},
   "outputs": [],
   "source": [
    "from itertools import product"
   ]
  },
  {
   "cell_type": "code",
   "execution_count": 2,
   "metadata": {},
   "outputs": [
    {
     "data": {
      "text/plain": [
       "{'F': 0.7, 'I': 0.3}"
      ]
     },
     "execution_count": 2,
     "metadata": {},
     "output_type": "execute_result"
    }
   ],
   "source": [
    "twin_types = 'FI'\n",
    "frat_dist = [0.7, 0.3, ]\n",
    "dict(zip(twin_types, frat_dist))"
   ]
  },
  {
   "cell_type": "markdown",
   "metadata": {},
   "source": [
    "And the distribution of boys and girls among new borns in general:"
   ]
  },
  {
   "cell_type": "code",
   "execution_count": 3,
   "metadata": {},
   "outputs": [
    {
     "data": {
      "text/plain": [
       "{'B': 0.49, 'G': 0.51}"
      ]
     },
     "execution_count": 3,
     "metadata": {},
     "output_type": "execute_result"
    }
   ],
   "source": [
    "gender_types = 'BG'\n",
    "gender_dist = [0.49, 0.51,]\n",
    "dict(zip(gender_types, gender_dist))"
   ]
  },
  {
   "cell_type": "markdown",
   "metadata": {},
   "source": [
    "The possible outcomes are:"
   ]
  },
  {
   "cell_type": "code",
   "execution_count": 4,
   "metadata": {},
   "outputs": [
    {
     "data": {
      "text/plain": [
       "['BB', 'BG', 'GB', 'GG']"
      ]
     },
     "execution_count": 4,
     "metadata": {},
     "output_type": "execute_result"
    }
   ],
   "source": [
    "outcomes = [i+j for i, j in product(gender_types, repeat=2)]\n",
    "outcomes"
   ]
  },
  {
   "cell_type": "markdown",
   "metadata": {},
   "source": [
    "Two fraternal twins can be any of {BB, BG, GB, GG}, while for identical twins the probabilities for BG and GB are 0. Thus, the probabiliy distribution is dependent on the two type of twins: {F, I}.\n",
    "\n",
    "For fraternal twins the probability of each of the outcomes is:"
   ]
  },
  {
   "cell_type": "code",
   "execution_count": 5,
   "metadata": {},
   "outputs": [
    {
     "data": {
      "text/plain": [
       "[0.24009999999999998, 0.2499, 0.2499, 0.2601]"
      ]
     },
     "execution_count": 5,
     "metadata": {},
     "output_type": "execute_result"
    }
   ],
   "source": [
    "frat_twin_dist = [pi*pj for pi, pj in product(gender_dist, repeat=2)]\n",
    "frat_twin_dist"
   ]
  },
  {
   "cell_type": "markdown",
   "metadata": {},
   "source": [
    "For identical twins it becomes:"
   ]
  },
  {
   "cell_type": "code",
   "execution_count": 6,
   "metadata": {},
   "outputs": [
    {
     "data": {
      "text/plain": [
       "[0.4800079968012795, 0.0, 0.0, 0.5199920031987205]"
      ]
     },
     "execution_count": 6,
     "metadata": {},
     "output_type": "execute_result"
    }
   ],
   "source": [
    "iden_twin_dist = [(i==j)*pi*pj for (i, pi), (j, pj) in product(enumerate(gender_dist), repeat=2)]\n",
    "iden_twin_dist = [v/sum(iden_twin_dist) for v in iden_twin_dist]\n",
    "iden_twin_dist"
   ]
  },
  {
   "cell_type": "markdown",
   "metadata": {},
   "source": [
    "## Exact inference with pgmpy\n",
    "\n",
    "This information is enough to answer the question. For this simple example it easy to derive it by hand. However, we are going to use the package [pgmpy](http://pgmpy.org/) to calculate it for us. This will allow us to easily modify the example in the next section."
   ]
  },
  {
   "cell_type": "code",
   "execution_count": 7,
   "metadata": {},
   "outputs": [],
   "source": [
    "from pgmpy.models import BayesianModel\n",
    "from pgmpy.inference import VariableElimination\n",
    "from pgmpy.factors.discrete import TabularCPD"
   ]
  },
  {
   "cell_type": "markdown",
   "metadata": {},
   "source": [
    "First define the dependence of the distribution of twins ('T') on the their type 'H': {F, I}"
   ]
  },
  {
   "cell_type": "code",
   "execution_count": 8,
   "metadata": {},
   "outputs": [],
   "source": [
    "# Defining the network structure\n",
    "model = BayesianModel([('H', 'T')])"
   ]
  },
  {
   "cell_type": "markdown",
   "metadata": {},
   "source": [
    "Then set the probabilities:"
   ]
  },
  {
   "cell_type": "code",
   "execution_count": 9,
   "metadata": {},
   "outputs": [
    {
     "data": {
      "text/plain": [
       "[<TabularCPD representing P(H:2) at 0x7f2cd0127c50>,\n",
       " <TabularCPD representing P(T:4 | H:2) at 0x7f2cd0127c88>]"
      ]
     },
     "execution_count": 9,
     "metadata": {},
     "output_type": "execute_result"
    }
   ],
   "source": [
    "# Defining the CPDs:\n",
    "cpd_h = TabularCPD('H', 2, [frat_dist])\n",
    "\n",
    "cpd_t = TabularCPD('T', 4, list(zip(frat_twin_dist, iden_twin_dist)), evidence=['H'], evidence_card=[2])\n",
    "\n",
    "# Associating the CPDs with the network structure.\n",
    "model.add_cpds(cpd_h, cpd_t)\n",
    "\n",
    "model.get_cpds()"
   ]
  },
  {
   "cell_type": "markdown",
   "metadata": {},
   "source": [
    "Next lets get the distribution of twin type 'H' given the observation 'BB':"
   ]
  },
  {
   "cell_type": "code",
   "execution_count": 10,
   "metadata": {},
   "outputs": [
    {
     "name": "stdout",
     "output_type": "stream",
     "text": [
      "+-----+----------+\n",
      "| H   |   phi(H) |\n",
      "+=====+==========+\n",
      "| H_0 |   0.5386 |\n",
      "+-----+----------+\n",
      "| H_1 |   0.4614 |\n",
      "+-----+----------+\n"
     ]
    },
    {
     "data": {
      "text/plain": [
       "{'F': 0.5385609253391577, 'I': 0.46143907466084233}"
      ]
     },
     "execution_count": 10,
     "metadata": {},
     "output_type": "execute_result"
    }
   ],
   "source": [
    "infer = VariableElimination(model)\n",
    "\n",
    "q = infer.query(variables=['H'], evidence={'T': outcomes.index('BB')})\n",
    "print(q['H'])\n",
    "dict(zip(twin_types, q['H'].values))"
   ]
  },
  {
   "cell_type": "markdown",
   "metadata": {},
   "source": [
    "### Complicate the model\n",
    "\n",
    "This seems like a plausible model for the question. However, let's say that the mathematician does not trust the sonar reading. Hence, we attach a probability for the other outcomes too when the reading is 'BB'. Lets dentote the reading of the sonar with lower case letters (b,g) and the actual gender of the baby as (B, G).\n",
    "\n",
    "We need the the probability distribution P(t|T), t in {b, g}, T in {B, G}. This can answer the question what is the probability to have a boy given that a reading of boy."
   ]
  },
  {
   "cell_type": "code",
   "execution_count": 11,
   "metadata": {},
   "outputs": [],
   "source": [
    "p_sonar = [[0.95, 0.05],\n",
    "           [0.02, 0.98]]"
   ]
  },
  {
   "cell_type": "code",
   "execution_count": 12,
   "metadata": {},
   "outputs": [],
   "source": [
    "def P_sonar(t, T):\n",
    "    t1,t2 = t.upper()\n",
    "    T1,T2 = T\n",
    "    return p_sonar[gender_types.index(T1)][gender_types.index(t1)]*p_sonar[gender_types.index(T2)][gender_types.index(t2)]"
   ]
  },
  {
   "cell_type": "code",
   "execution_count": 13,
   "metadata": {},
   "outputs": [
    {
     "data": {
      "text/plain": [
       "0.019"
      ]
     },
     "execution_count": 13,
     "metadata": {},
     "output_type": "execute_result"
    }
   ],
   "source": [
    "P_sonar('bb', 'BG')"
   ]
  },
  {
   "cell_type": "code",
   "execution_count": 14,
   "metadata": {},
   "outputs": [
    {
     "data": {
      "text/plain": [
       "[[0.9025, 0.019, 0.019, 0.0004],\n",
       " [0.0475, 0.9309999999999999, 0.001, 0.0196],\n",
       " [0.0475, 0.001, 0.9309999999999999, 0.0196],\n",
       " [0.0025000000000000005, 0.049, 0.049, 0.9603999999999999]]"
      ]
     },
     "execution_count": 14,
     "metadata": {},
     "output_type": "execute_result"
    }
   ],
   "source": [
    "cpd_obs_t = [[P_sonar(t, T) for T in outcomes] for t in outcomes]\n",
    "cpd_obs_t"
   ]
  },
  {
   "cell_type": "code",
   "execution_count": 15,
   "metadata": {},
   "outputs": [],
   "source": [
    "cpd_obs_t = TabularCPD('OBS_T', 4, cpd_obs_t, evidence=['T'], evidence_card=[4])"
   ]
  },
  {
   "cell_type": "code",
   "execution_count": 16,
   "metadata": {},
   "outputs": [],
   "source": [
    "comlicated_model = BayesianModel([('H', 'T'), ('T', 'OBS_T')])"
   ]
  },
  {
   "cell_type": "code",
   "execution_count": 17,
   "metadata": {},
   "outputs": [
    {
     "data": {
      "text/plain": [
       "[<TabularCPD representing P(H:2) at 0x7f2cd0127c50>,\n",
       " <TabularCPD representing P(T:4 | H:2) at 0x7f2cd0127c88>,\n",
       " <TabularCPD representing P(OBS_T:4 | T:4) at 0x7f2cd0127fd0>]"
      ]
     },
     "execution_count": 17,
     "metadata": {},
     "output_type": "execute_result"
    }
   ],
   "source": [
    "\n",
    "# Associating the CPDs with the network structure.\n",
    "comlicated_model.add_cpds(cpd_h, cpd_t, cpd_obs_t)\n",
    "\n",
    "comlicated_model.get_cpds()"
   ]
  },
  {
   "cell_type": "code",
   "execution_count": 18,
   "metadata": {},
   "outputs": [
    {
     "name": "stdout",
     "output_type": "stream",
     "text": [
      "+-----+----------+\n",
      "| H   |   phi(H) |\n",
      "+=====+==========+\n",
      "| H_0 |   0.5492 |\n",
      "+-----+----------+\n",
      "| H_1 |   0.4508 |\n",
      "+-----+----------+\n"
     ]
    },
    {
     "name": "stderr",
     "output_type": "stream",
     "text": [
      "/home/amarazov/workspace/mccpy/venv/lib/python3.6/site-packages/pgmpy/factors/discrete/DiscreteFactor.py:586: FutureWarning: Using a non-tuple sequence for multidimensional indexing is deprecated; use `arr[tuple(seq)]` instead of `arr[seq]`. In the future this will be interpreted as an array index, `arr[np.array(seq)]`, which will result either in an error or a different result.\n",
      "  phi.values = phi.values[slice_]\n",
      "/home/amarazov/workspace/mccpy/venv/lib/python3.6/site-packages/pgmpy/factors/discrete/DiscreteFactor.py:598: FutureWarning: Using a non-tuple sequence for multidimensional indexing is deprecated; use `arr[tuple(seq)]` instead of `arr[seq]`. In the future this will be interpreted as an array index, `arr[np.array(seq)]`, which will result either in an error or a different result.\n",
      "  phi1.values = phi1.values[slice_]\n"
     ]
    },
    {
     "data": {
      "text/plain": [
       "{'F': 0.5491956189393926, 'I': 0.45080438106060744}"
      ]
     },
     "execution_count": 18,
     "metadata": {},
     "output_type": "execute_result"
    }
   ],
   "source": [
    "complicated_infer = VariableElimination(comlicated_model)\n",
    "\n",
    "complicated_q = complicated_infer.query(variables=['H', 'T'], evidence={'OBS_T': outcomes.index('BB')})\n",
    "print(complicated_q['H'])\n",
    "dict(zip(twin_types, complicated_q['H'].values))"
   ]
  },
  {
   "cell_type": "markdown",
   "metadata": {},
   "source": [
    "As a by product we have the distribution P(T|t):"
   ]
  },
  {
   "cell_type": "code",
   "execution_count": 19,
   "metadata": {},
   "outputs": [
    {
     "name": "stdout",
     "output_type": "stream",
     "text": [
      "+-----+----------+\n",
      "| T   |   phi(T) |\n",
      "+=====+==========+\n",
      "| T_0 |   0.9765 |\n",
      "+-----+----------+\n",
      "| T_1 |   0.0115 |\n",
      "+-----+----------+\n",
      "| T_2 |   0.0115 |\n",
      "+-----+----------+\n",
      "| T_3 |   0.0005 |\n",
      "+-----+----------+\n"
     ]
    }
   ],
   "source": [
    "print(complicated_q['T'])"
   ]
  },
  {
   "cell_type": "markdown",
   "metadata": {},
   "source": [
    "## Approximate inference\n",
    "\n",
    "For discrete distributions we can calculate the desired probability distribution by enumerating the outcomes. For continous distribution this might not be possible. The integrals may be just too complex. For this reason we can use approximote inference. There are two main types:\n",
    "- variational inference\n",
    "- Monte Carlo sampling\n",
    "Below we demontrate the first approach using [pyro](https://pyro.ai/)"
   ]
  },
  {
   "cell_type": "code",
   "execution_count": 20,
   "metadata": {},
   "outputs": [],
   "source": [
    "import matplotlib.pyplot as plt\n",
    "import numpy as np\n",
    "from torch import tensor, eye\n",
    "\n",
    "import pyro\n",
    "import pyro.infer\n",
    "import pyro.optim\n",
    "from pyro.distributions import *\n",
    "import torch.distributions.constraints as constraints\n",
    "from itertools import product\n",
    "pyro.set_rng_seed(101)"
   ]
  },
  {
   "cell_type": "code",
   "execution_count": 21,
   "metadata": {},
   "outputs": [],
   "source": [
    "gender2ix = {k:tensor(i) for i, k in enumerate(gender_types)}"
   ]
  },
  {
   "cell_type": "markdown",
   "metadata": {},
   "source": [
    "Let's define a model that generates twins according the above probabilities. First the type of twin is determined by calling `fraternety()`. If they are identical the gender of child2 has probability 100% for the gender of child 1."
   ]
  },
  {
   "cell_type": "code",
   "execution_count": 22,
   "metadata": {},
   "outputs": [],
   "source": [
    "def twins():\n",
    "    birth_dist = Categorical(tensor(gender_dist))\n",
    "    frat = fraternety()\n",
    "    if frat == 'I':\n",
    "        child1 = pyro.sample('child1', birth_dist)\n",
    "        point_dist = Categorical(eye(2)[child1])\n",
    "        child2 = pyro.sample('child2', point_dist)\n",
    "    else:\n",
    "        child1 = pyro.sample('child1', birth_dist)\n",
    "        child2 = pyro.sample('child2', birth_dist)\n",
    "    return frat + gender_types[child1] + gender_types[child2]"
   ]
  },
  {
   "cell_type": "code",
   "execution_count": 23,
   "metadata": {},
   "outputs": [],
   "source": [
    "def fraternety():\n",
    "    frat = pyro.sample('fraternety', Categorical(tensor(frat_dist)))\n",
    "    return twin_types[frat]"
   ]
  },
  {
   "cell_type": "code",
   "execution_count": 24,
   "metadata": {},
   "outputs": [
    {
     "data": {
      "text/plain": [
       "['FGB', 'FBG', 'FBG', 'IBB', 'FGB', 'IBB', 'IGG', 'FBB', 'IBB', 'FGG']"
      ]
     },
     "execution_count": 24,
     "metadata": {},
     "output_type": "execute_result"
    }
   ],
   "source": [
    "[twins() for _ in range(10)]"
   ]
  },
  {
   "cell_type": "markdown",
   "metadata": {},
   "source": [
    "A guide function is the type of function we seek the posterior distribution to be like. Here we know exactly how it should look but in other cases we can only hope it is general enough to approximate the posterior well. "
   ]
  },
  {
   "cell_type": "code",
   "execution_count": 25,
   "metadata": {},
   "outputs": [],
   "source": [
    "def twins_parametrized_guide():\n",
    "    a = pyro.param('a', tensor([0.5, 0.5]), constraint=constraints.simplex)\n",
    "    return pyro.sample('fraternety', Categorical(a))"
   ]
  },
  {
   "cell_type": "code",
   "execution_count": 26,
   "metadata": {},
   "outputs": [],
   "source": [
    "given = 'BB'\n",
    "conditioned_twins = pyro.condition(twins, data={'child1': gender2ix[given[0]], 'child2': gender2ix[given[1]]})"
   ]
  },
  {
   "cell_type": "code",
   "execution_count": 27,
   "metadata": {},
   "outputs": [
    {
     "name": "stdout",
     "output_type": "stream",
     "text": [
      "infered P(fraternal|BB) = [0.5288604497909546, 0.4711395800113678]\n",
      "exact   P(fraternal|BB) = [0.53856093 0.46143907]\n"
     ]
    },
    {
     "data": {
      "image/png": "[encoded data removed]",
      "text/plain": [
       "<Figure size 432x288 with 1 Axes>"
      ]
     },
     "metadata": {
      "needs_background": "light"
     },
     "output_type": "display_data"
    }
   ],
   "source": [
    "pyro.clear_param_store()\n",
    "svi = pyro.infer.SVI(\n",
    "    model=conditioned_twins,\n",
    "    guide=twins_parametrized_guide,\n",
    "    optim=pyro.optim.SGD({\"lr\": 0.0005, \"momentum\":0.1}),\n",
    "    loss=pyro.infer.Trace_ELBO()\n",
    ")\n",
    "\n",
    "\n",
    "losses, pb, pg  = [], [], []\n",
    "num_steps = 10000\n",
    "for t in range(num_steps):\n",
    "    losses.append(svi.step())\n",
    "    pb.append(pyro.param(\"a\")[0])\n",
    "    pg.append(pyro.param(\"a\")[1])\n",
    "\n",
    "plt.plot(losses)\n",
    "plt.title(\"ELBO\")\n",
    "plt.xlabel(\"step\")\n",
    "plt.ylabel(\"loss\");\n",
    "print(f'infered P(fraternal|{given}) =', pyro.param(\"a\").tolist())\n",
    "print(f'exact   P(fraternal|{given}) =', q['H'].values)"
   ]
  },
  {
   "cell_type": "code",
   "execution_count": 28,
   "metadata": {},
   "outputs": [
    {
     "data": {
      "image/png": "[encoded data removed]",
      "text/plain": [
       "<Figure size 432x288 with 2 Axes>"
      ]
     },
     "metadata": {
      "needs_background": "light"
     },
     "output_type": "display_data"
    }
   ],
   "source": [
    "plt.subplot(1,2,1)\n",
    "pb_exact = q['H'].values[0]\n",
    "plt.plot([0,num_steps],[pb_exact, pb_exact], 'k:')\n",
    "plt.plot(pb)\n",
    "plt.ylabel('prob(B)')\n",
    "\n",
    "plt.subplot(1,2,2)\n",
    "plt.ylabel('prob(G)')\n",
    "pg_exact = q['H'].values[1]\n",
    "plt.plot([0,num_steps],[pg_exact, pg_exact], 'k:')\n",
    "plt.plot(pg)\n",
    "plt.tight_layout()"
   ]
  },
  {
   "cell_type": "code",
   "execution_count": null,
   "metadata": {},
   "outputs": [],
   "source": []
  }
 ],
 "metadata": {
  "kernelspec": {
   "display_name": "Python 3",
   "language": "python",
   "name": "python3"
  },
  "language_info": {
   "codemirror_mode": {
    "name": "ipython",
    "version": 3
   },
   "file_extension": ".py",
   "mimetype": "text/x-python",
   "name": "python",
   "nbconvert_exporter": "python",
   "pygments_lexer": "ipython3",
   "version": "3.6.6"
  }
 },
 "nbformat": 4,
 "nbformat_minor": 2
}
